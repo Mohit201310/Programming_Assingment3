{
 "cells": [
  {
   "cell_type": "code",
   "execution_count": 12,
   "id": "23af2942-552a-4f3e-ac69-61df54e664af",
   "metadata": {},
   "outputs": [
    {
     "name": "stdin",
     "output_type": "stream",
     "text": [
      "enter a number:  -2\n"
     ]
    },
    {
     "name": "stdout",
     "output_type": "stream",
     "text": [
      " a is negative\n"
     ]
    }
   ],
   "source": [
    "# 1.Write a Python Program to Check if a Number is Positive, Negative or Zero?\n",
    "\n",
    "a  = int(input(\"enter a number: \"))\n",
    "if a > 0: \n",
    "    print(\" a is positive\")\n",
    "elif a == 0:\n",
    "    print(\" a is zero\")\n",
    "else :\n",
    "    print(\" a is negative\") \n"
   ]
  },
  {
   "cell_type": "code",
   "execution_count": 14,
   "id": "2126a594-e087-402e-8f69-e6479d6daca0",
   "metadata": {},
   "outputs": [
    {
     "name": "stdin",
     "output_type": "stream",
     "text": [
      "enter a number:  7\n"
     ]
    },
    {
     "name": "stdout",
     "output_type": "stream",
     "text": [
      " number is odd\n"
     ]
    }
   ],
   "source": [
    "# 2.Write a Python Program to Check if a Number is Odd or Even?\n",
    "\n",
    "a = int(input(\"enter a number: \"))\n",
    "if a%2 == 0:\n",
    "    print(\" number is even \")\n",
    "else:\n",
    "    print(\" number is odd\")\n"
   ]
  },
  {
   "cell_type": "code",
   "execution_count": 17,
   "id": "e5b43ef0-2d90-4d9a-9759-45df039cd4bf",
   "metadata": {},
   "outputs": [
    {
     "name": "stdin",
     "output_type": "stream",
     "text": [
      "Enter Year:  365\n"
     ]
    },
    {
     "name": "stdout",
     "output_type": "stream",
     "text": [
      "365 is not a Leap Year\n"
     ]
    }
   ],
   "source": [
    "# 3.Write a Python Program to Check Leap Year?\n",
    "     \n",
    "year = int(input(\"Enter Year: \"))\n",
    "# Leap Year Check\n",
    "if year % 4 == 0 and year % 100 != 0:\n",
    "    print(year, \"is a Leap Year\")\n",
    "elif year % 100 == 0:\n",
    "    print(year, \"is not a Leap Year\")\n",
    "elif year % 400 ==0:\n",
    "    print(year, \"is a Leap Year\")\n",
    "else:\n",
    "    print(year, \"is not a Leap Year\")\n"
   ]
  },
  {
   "cell_type": "code",
   "execution_count": 25,
   "id": "7f7a63e3-d81b-42bd-9a33-9c1973f57313",
   "metadata": {},
   "outputs": [
    {
     "name": "stdin",
     "output_type": "stream",
     "text": [
      "enter a num:  11\n"
     ]
    },
    {
     "name": "stdout",
     "output_type": "stream",
     "text": [
      "number is prime\n"
     ]
    }
   ],
   "source": [
    "#4.\tWrite a Python Program to Check Prime Number?\n",
    "a = int(input(\"enter a num: \"))\n",
    "for i in range(2,a):\n",
    "    if a%i == 0:\n",
    "        print(\"num is not prime \")\n",
    "        break\n",
    "else:\n",
    "    print(\"number is prime\")\n"
   ]
  },
  {
   "cell_type": "code",
   "execution_count": null,
   "id": "799dd1a8-0055-48d9-969e-9622f1e13bb1",
   "metadata": {},
   "outputs": [],
   "source": [
    "#5.\tWrite a Python Program to Print all Prime Numbers in an Interval of 1-10000?\n",
    "lower = 1\n",
    "upper = 100\n",
    "print(\"Prime numbers between\", lower, \"and\", upper, \"are:\")\n",
    "for num in range(lower, upper + 1):\n",
    "# all prime numbers are greater than 1\n",
    "if num > 1:\n",
    "for i in range(2, num):\n",
    "if (num % i) == 0:\n",
    "break\n",
    "else:\n",
    "print(num)\n"
   ]
  }
 ],
 "metadata": {
  "kernelspec": {
   "display_name": "Python 3 (ipykernel)",
   "language": "python",
   "name": "python3"
  },
  "language_info": {
   "codemirror_mode": {
    "name": "ipython",
    "version": 3
   },
   "file_extension": ".py",
   "mimetype": "text/x-python",
   "name": "python",
   "nbconvert_exporter": "python",
   "pygments_lexer": "ipython3",
   "version": "3.10.6"
  }
 },
 "nbformat": 4,
 "nbformat_minor": 5
}
